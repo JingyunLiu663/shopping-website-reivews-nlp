{
 "cells": [
  {
   "cell_type": "markdown",
   "metadata": {},
   "source": [
    "# Natural Language Processing for Shopping Reviews"
   ]
  },
  {
   "cell_type": "code",
   "execution_count": 34,
   "metadata": {},
   "outputs": [],
   "source": [
    "# Pre-Processing\n",
    "import string\n",
    "from nltk.tokenize import RegexpTokenizer\n",
    "from nltk.corpus import stopwords\n",
    "import re\n",
    "from nltk.stem import PorterStemmer\n",
    "\n",
    "# Modeling\n",
    "import statsmodels.api as sm\n",
    "from nltk.sentiment.vader import SentimentIntensityAnalyzer\n",
    "from nltk.sentiment.util import *\n",
    "from nltk.util import ngrams\n",
    "from collections import Counter\n",
    "from gensim.models import word2vec\n",
    "from nltk.tokenize import word_tokenize\n",
    "from gensim import corpora, models, similarities\n",
    "from nltk.stem.lancaster import LancasterStemmer\n",
    "from nltk.stem.porter import PorterStemmer\n",
    "from pprint import pprint\n",
    "\n",
    "#sklearn\n",
    "from sklearn.linear_model import LogisticRegression\n",
    "from sklearn.model_selection import train_test_split\n",
    "from sklearn.metrics import accuracy_score\n",
    "from sklearn.model_selection import KFold\n",
    "\n",
    "# For the first-time user, you should download these two pre-trained tokenizer\n",
    "#nltk.download('punkt') \n",
    "#nltk.download('stopwords')\n",
    "\n",
    "import matplotlib.pyplot as plt\n",
    "import numpy as np\n",
    "import pandas as pd\n",
    "import warnings\n",
    "warnings.filterwarnings('ignore')"
   ]
  },
  {
   "cell_type": "code",
   "execution_count": 2,
   "metadata": {},
   "outputs": [
    {
     "data": {
      "text/html": [
       "<div>\n",
       "<style scoped>\n",
       "    .dataframe tbody tr th:only-of-type {\n",
       "        vertical-align: middle;\n",
       "    }\n",
       "\n",
       "    .dataframe tbody tr th {\n",
       "        vertical-align: top;\n",
       "    }\n",
       "\n",
       "    .dataframe thead th {\n",
       "        text-align: right;\n",
       "    }\n",
       "</style>\n",
       "<table border=\"1\" class=\"dataframe\">\n",
       "  <thead>\n",
       "    <tr style=\"text-align: right;\">\n",
       "      <th></th>\n",
       "      <th>Clothing ID</th>\n",
       "      <th>Age</th>\n",
       "      <th>Title</th>\n",
       "      <th>Review Text</th>\n",
       "      <th>Rating</th>\n",
       "      <th>Recommended IND</th>\n",
       "      <th>Positive Feedback Count</th>\n",
       "      <th>Division Name</th>\n",
       "      <th>Department Name</th>\n",
       "      <th>Class Name</th>\n",
       "    </tr>\n",
       "  </thead>\n",
       "  <tbody>\n",
       "    <tr>\n",
       "      <td>0</td>\n",
       "      <td>767</td>\n",
       "      <td>33</td>\n",
       "      <td>NaN</td>\n",
       "      <td>Absolutely wonderful - silky and sexy and comf...</td>\n",
       "      <td>4</td>\n",
       "      <td>1</td>\n",
       "      <td>0</td>\n",
       "      <td>Initmates</td>\n",
       "      <td>Intimate</td>\n",
       "      <td>Intimates</td>\n",
       "    </tr>\n",
       "    <tr>\n",
       "      <td>1</td>\n",
       "      <td>1080</td>\n",
       "      <td>34</td>\n",
       "      <td>NaN</td>\n",
       "      <td>Love this dress!  it's sooo pretty.  i happene...</td>\n",
       "      <td>5</td>\n",
       "      <td>1</td>\n",
       "      <td>4</td>\n",
       "      <td>General</td>\n",
       "      <td>Dresses</td>\n",
       "      <td>Dresses</td>\n",
       "    </tr>\n",
       "    <tr>\n",
       "      <td>2</td>\n",
       "      <td>1077</td>\n",
       "      <td>60</td>\n",
       "      <td>Some major design flaws</td>\n",
       "      <td>I had such high hopes for this dress and reall...</td>\n",
       "      <td>3</td>\n",
       "      <td>0</td>\n",
       "      <td>0</td>\n",
       "      <td>General</td>\n",
       "      <td>Dresses</td>\n",
       "      <td>Dresses</td>\n",
       "    </tr>\n",
       "    <tr>\n",
       "      <td>3</td>\n",
       "      <td>1049</td>\n",
       "      <td>50</td>\n",
       "      <td>My favorite buy!</td>\n",
       "      <td>I love, love, love this jumpsuit. it's fun, fl...</td>\n",
       "      <td>5</td>\n",
       "      <td>1</td>\n",
       "      <td>0</td>\n",
       "      <td>General Petite</td>\n",
       "      <td>Bottoms</td>\n",
       "      <td>Pants</td>\n",
       "    </tr>\n",
       "    <tr>\n",
       "      <td>4</td>\n",
       "      <td>847</td>\n",
       "      <td>47</td>\n",
       "      <td>Flattering shirt</td>\n",
       "      <td>This shirt is very flattering to all due to th...</td>\n",
       "      <td>5</td>\n",
       "      <td>1</td>\n",
       "      <td>6</td>\n",
       "      <td>General</td>\n",
       "      <td>Tops</td>\n",
       "      <td>Blouses</td>\n",
       "    </tr>\n",
       "  </tbody>\n",
       "</table>\n",
       "</div>"
      ],
      "text/plain": [
       "   Clothing ID  Age                    Title  \\\n",
       "0          767   33                      NaN   \n",
       "1         1080   34                      NaN   \n",
       "2         1077   60  Some major design flaws   \n",
       "3         1049   50         My favorite buy!   \n",
       "4          847   47         Flattering shirt   \n",
       "\n",
       "                                         Review Text  Rating  Recommended IND  \\\n",
       "0  Absolutely wonderful - silky and sexy and comf...       4                1   \n",
       "1  Love this dress!  it's sooo pretty.  i happene...       5                1   \n",
       "2  I had such high hopes for this dress and reall...       3                0   \n",
       "3  I love, love, love this jumpsuit. it's fun, fl...       5                1   \n",
       "4  This shirt is very flattering to all due to th...       5                1   \n",
       "\n",
       "   Positive Feedback Count   Division Name Department Name Class Name  \n",
       "0                        0       Initmates        Intimate  Intimates  \n",
       "1                        4         General         Dresses    Dresses  \n",
       "2                        0         General         Dresses    Dresses  \n",
       "3                        0  General Petite         Bottoms      Pants  \n",
       "4                        6         General            Tops    Blouses  "
      ]
     },
     "execution_count": 2,
     "metadata": {},
     "output_type": "execute_result"
    }
   ],
   "source": [
    "df = pd.read_csv('Womens Clothing E-Commerce Reviews.csv',index_col = 0)\n",
    "sentiment_label = df[\"Recommended IND\"]\n",
    "df.head()"
   ]
  },
  {
   "cell_type": "code",
   "execution_count": 3,
   "metadata": {},
   "outputs": [],
   "source": [
    "# Pre-process\n",
    "# choose review text\n",
    "pdtextpreprocess = df[[\"Title\",\"Review Text\", \"Rating\"]]\n",
    "pdtextpreprocess['index'] = pdtextpreprocess.index\n",
    "\n",
    "documents = [str(m)+\" \"+str(n) for m,n in zip(pdtextpreprocess[\"Title\"],pdtextpreprocess[\"Review Text\"])] # add title as part of review text"
   ]
  },
  {
   "cell_type": "code",
   "execution_count": 4,
   "metadata": {},
   "outputs": [],
   "source": [
    "texts_tokenized = [[word.lower() for word in word_tokenize(str(document))] for document in documents]#text tokenized and transformed to lowercase\n",
    "\n",
    "stop_words = set(stopwords.words('english'))\n",
    "texts_filtered_stopwords = [[word for word in document if not word in stop_words] for document in texts_tokenized]#move stop_words\n",
    "\n",
    "# puncuations\n",
    "english_punctuations = list(string.punctuation)\n",
    "texts_filtered = [[word for word in document if not word in english_punctuations] for document in texts_filtered_stopwords]#move english_punctuations\n",
    "\n",
    "stemmer = PorterStemmer()\n",
    "#stemmer =LancasterStemmer()\n",
    "texts_stemmed = [[stemmer.stem(word) for word in docment] for docment in texts_filtered]\n",
    "\n",
    "all_stems = sum(texts_stemmed, [])\n",
    "stems_once = set(stem for stem in set(all_stems) if all_stems.count(stem) == 1)\n",
    "\n",
    "# stems_once.add('\\'s') #remove 's in texts\n",
    "texts = [[stem for stem in text if stem not in stems_once] for text in texts_stemmed]"
   ]
  },
  {
   "cell_type": "code",
   "execution_count": 5,
   "metadata": {},
   "outputs": [],
   "source": [
    "from gensim.corpora import Dictionary\n",
    "\n",
    "dictionary = Dictionary(texts)  # fit dictionary\n",
    "corpus = [dictionary.doc2bow(line) for line in texts]  # convert corpus to BoW format\n",
    "\n",
    "tfidf = models.TfidfModel(corpus) #calculate tf-idf\n",
    "corpus_tfidf = tfidf[corpus] #use tf-idfs to represent documents"
   ]
  },
  {
   "cell_type": "markdown",
   "metadata": {},
   "source": [
    "## I. LSA and LDA for Topic Modeling "
   ]
  },
  {
   "cell_type": "markdown",
   "metadata": {},
   "source": [
    "### Cross Validation is used for Number of Topics Determination \n",
    "  \n",
    "\"Topic coherence\" is chosen as the metric to evaluate the LSA/LDA model. \"U_mass\" is applied for topic coherence evaluation for it is the fastest accordingly. The number of topics with the highest (closest to zero) U-mass coherense score will be applied.\n",
    "  \n",
    "The number of topics for the clothing-review dataset is intuitively estimated not to exceed 15 and to be at least 2, so a range of 2 to 16 with step of 1 is set as the parameter range to search.  \n",
    "  \n",
    "KFold with k=5 and shuffle is set as the cross validation approach."
   ]
  },
  {
   "cell_type": "markdown",
   "metadata": {},
   "source": [
    "### 1.1.1 LSA \n",
    "\n",
    "Like mentioned above, topic coherence (U_mass) is used for optimal number of topic selection."
   ]
  },
  {
   "cell_type": "code",
   "execution_count": 6,
   "metadata": {},
   "outputs": [],
   "source": [
    "kf = KFold(5,shuffle = True, random_state=233) #set seed\n",
    "split = kf.split(corpus_tfidf)\n",
    "\n",
    "topics_range = range(2,16,1)\n",
    "coherence = pd.DataFrame()\n",
    "\n",
    "for k in topics_range:\n",
    "    cl = []\n",
    "    for train_index, test_index in kf.split(corpus_tfidf):   \n",
    "        X_train, X_test = np.array(corpus_tfidf)[train_index], np.array(corpus_tfidf)[test_index]        \n",
    "        lsi = models.LsiModel(X_train,id2word= dictionary,num_topics= k)\n",
    "        corpus_lsi = lsi[X_test]\n",
    "        coherence_model = models.CoherenceModel(model=lsi,corpus=X_test, coherence='u_mass')\n",
    "        cl.append(coherence_model.get_coherence())\n",
    "    c=np.mean(cl)\n",
    "    coherence=coherence.append(pd.Series([k,c]),ignore_index=True)"
   ]
  },
  {
   "cell_type": "code",
   "execution_count": 7,
   "metadata": {},
   "outputs": [
    {
     "name": "stdout",
     "output_type": "stream",
     "text": [
      "    num_topics  topic_coherence\n",
      "0          2.0        -5.186406\n",
      "1          3.0        -1.747202\n",
      "2          4.0        -4.581156\n",
      "3          5.0        -2.646875\n",
      "4          6.0        -2.634702\n",
      "5          7.0        -3.050800\n",
      "6          8.0        -3.427609\n",
      "7          9.0        -2.884550\n",
      "8         10.0        -2.847903\n",
      "9         11.0        -2.112357\n",
      "10        12.0        -2.456222\n",
      "11        13.0        -2.705581\n",
      "12        14.0        -2.417725\n",
      "13        15.0        -3.177091\n"
     ]
    }
   ],
   "source": [
    "coherence.columns=['num_topics','topic_coherence']\n",
    "print(coherence)"
   ]
  },
  {
   "cell_type": "code",
   "execution_count": 9,
   "metadata": {},
   "outputs": [
    {
     "data": {
      "image/png": "[encoded data removed]",
      "text/plain": [
       "<Figure size 432x288 with 1 Axes>"
      ]
     },
     "metadata": {
      "needs_background": "light"
     },
     "output_type": "display_data"
    }
   ],
   "source": [
    "plt.plot(coherence.iloc[:,0],coherence.iloc[:,1])\n",
    "plt.plot(coherence.iloc[1,0],coherence.iloc[1,1],'*r')\n",
    "plt.xlabel('Number of Topics')\n",
    "plt.ylabel('UMass Topic Coherence\\n(Cross-validated)')\n",
    "plt.title('Optimal Number of Topics: 3')\n",
    "plt.show()"
   ]
  },
  {
   "cell_type": "markdown",
   "metadata": {},
   "source": [
    "### 1.1.2 Apply the LSA Model with topic number = 3\n",
    "In terms of the cross validation result, the number of topics is fine-tuned as 3."
   ]
  },
  {
   "cell_type": "code",
   "execution_count": 17,
   "metadata": {},
   "outputs": [
    {
     "name": "stdout",
     "output_type": "stream",
     "text": [
      "[(0,\n",
      "  '0.929*\"nan\" + 0.080*\"dress\" + 0.063*\"top\" + 0.060*\"love\" + 0.057*\"great\" + '\n",
      "  '0.055*\"size\" + 0.052*\"fit\" + 0.048*\"look\" + 0.047*\"\\'s\" + 0.046*\"color\"'),\n",
      " (1,\n",
      "  '-0.370*\"nan\" + 0.195*\"dress\" + 0.154*\"top\" + 0.139*\"size\" + 0.135*\"love\" + '\n",
      "  '0.131*\"great\" + 0.128*\"fit\" + 0.119*\"\\'s\" + 0.118*\"look\" + 0.113*\"color\"'),\n",
      " (2,\n",
      "  '-0.304*\"dress\" + 0.264*\"jean\" + 0.257*\"great\" + 0.216*\"shirt\" + '\n",
      "  '0.206*\"sweater\" + -0.189*\"small\" + 0.184*\"comfort\" + 0.179*\"soft\" + '\n",
      "  '-0.152*\"size\" + 0.147*\"pant\"')]\n"
     ]
    }
   ],
   "source": [
    "num_topics= 3\n",
    "\n",
    "lsi=models.LsiModel(corpus_tfidf,id2word=dictionary,num_topics=num_topics)\n",
    "corpus_lsi = lsi[corpus_tfidf]\n",
    "\n",
    "pprint(lsi.print_topics()) "
   ]
  },
  {
   "cell_type": "code",
   "execution_count": 36,
   "metadata": {
    "scrolled": true
   },
   "outputs": [],
   "source": [
    "# for doc in corpus_lsi:\n",
    "#     print(doc)"
   ]
  },
  {
   "cell_type": "code",
   "execution_count": 25,
   "metadata": {},
   "outputs": [
    {
     "name": "stdout",
     "output_type": "stream",
     "text": [
      "\n",
      "Coherence Score of LSA with 3 Topics:  -1.7437329622728857\n"
     ]
    }
   ],
   "source": [
    "coherence_model_lsi = models.CoherenceModel(model=lsi,corpus=corpus_tfidf, coherence='u_mass')\n",
    "coherence_lsi = coherence_model_lsi.get_coherence()\n",
    "print('\\nCoherence Score of LSA with 3 Topics: ',coherence_lsi)"
   ]
  },
  {
   "cell_type": "markdown",
   "metadata": {},
   "source": [
    "### 1.2 LDA\n",
    "\n",
    "Apart from topic coherence (u_mass), perplexity is applied for optimal number of topics selection."
   ]
  },
  {
   "cell_type": "markdown",
   "metadata": {},
   "source": [
    "### 1.2.1 topic coherence (u_mass)"
   ]
  },
  {
   "cell_type": "code",
   "execution_count": 8,
   "metadata": {},
   "outputs": [],
   "source": [
    "kf = KFold(5,shuffle = True, random_state=233) #set seed\n",
    "split = kf.split(corpus_tfidf)\n",
    "\n",
    "topics_range = range(2,11,1)\n",
    "lda_coherence = pd.DataFrame()\n",
    "\n",
    "for k in topics_range:\n",
    "    cl = []\n",
    "    for train_index, test_index in kf.split(corpus_tfidf):   \n",
    "        X_train, X_test = np.array(corpus_tfidf)[train_index], np.array(corpus_tfidf)[test_index]        \n",
    "        lda = models.LdaModel(X_train,id2word= dictionary,num_topics= k)\n",
    "        corpus_lda = lda[X_test]\n",
    "        coherence_model = models.CoherenceModel(model=lda,corpus=X_test, coherence='u_mass')\n",
    "        cl.append(coherence_model.get_coherence())\n",
    "    c = np.mean(cl)\n",
    "    lda_coherence = lda_coherence.append(pd.Series([k,c]),ignore_index=True)"
   ]
  },
  {
   "cell_type": "code",
   "execution_count": 9,
   "metadata": {},
   "outputs": [
    {
     "name": "stdout",
     "output_type": "stream",
     "text": [
      "   num_topics  topic_coherence\n",
      "0         2.0        -1.626556\n",
      "1         3.0        -1.945881\n",
      "2         4.0        -2.327061\n",
      "3         5.0        -4.169674\n",
      "4         6.0        -3.680719\n",
      "5         7.0        -5.863170\n",
      "6         8.0        -6.384382\n",
      "7         9.0        -6.005023\n",
      "8        10.0        -7.188552\n"
     ]
    }
   ],
   "source": [
    "lda_coherence.columns=['num_topics','topic_coherence']\n",
    "print(lda_coherence)"
   ]
  },
  {
   "cell_type": "code",
   "execution_count": 13,
   "metadata": {},
   "outputs": [
    {
     "data": {
      "image/png": "[encoded data removed]",
      "text/plain": [
       "<Figure size 432x288 with 1 Axes>"
      ]
     },
     "metadata": {
      "needs_background": "light"
     },
     "output_type": "display_data"
    }
   ],
   "source": [
    "plt.plot(lda_coherence.iloc[:,0],lda_coherence.iloc[:,1])\n",
    "plt.plot(lda_coherence.iloc[0,0],lda_coherence.iloc[0,1],'*r')\n",
    "plt.xlabel('Number of Topics')\n",
    "plt.ylabel('UMass Topic Coherence\\n(Cross-validated)')\n",
    "plt.title('Optimal Number of Topics: 2')\n",
    "plt.show()"
   ]
  },
  {
   "cell_type": "markdown",
   "metadata": {},
   "source": [
    "### 1.2.2 log_perpelexity method "
   ]
  },
  {
   "cell_type": "code",
   "execution_count": 44,
   "metadata": {},
   "outputs": [],
   "source": [
    "kf = KFold(5,shuffle = True, random_state=233) #set seed\n",
    "split = kf.split(corpus_tfidf)\n",
    "\n",
    "topics_range = range(2,16,1)\n",
    "perplexity = pd.DataFrame()\n",
    "\n",
    "for k in topics_range:\n",
    "    pl = []\n",
    "    for train_index, test_index in kf.split(corpus_tfidf):   \n",
    "        X_train, X_test = np.array(corpus_tfidf)[train_index], np.array(corpus_tfidf)[test_index]        \n",
    "        lda = models.LdaModel(X_train, id2word = dictionary, num_topics= k)\n",
    "        pl.append(lda.log_perplexity(X_test))\n",
    "    p = np.mean(pl)\n",
    "    perplexity = perplexity.append(pd.Series([k,p]),ignore_index=True)"
   ]
  },
  {
   "cell_type": "code",
   "execution_count": 45,
   "metadata": {
    "scrolled": true
   },
   "outputs": [
    {
     "name": "stdout",
     "output_type": "stream",
     "text": [
      "    num_topics  perplexity\n",
      "0          2.0   -8.269255\n",
      "1          3.0   -8.583579\n",
      "2          4.0   -8.865361\n",
      "3          5.0   -9.038513\n",
      "4          6.0   -9.286377\n",
      "5          7.0   -9.470919\n",
      "6          8.0   -9.542532\n",
      "7          9.0   -9.790395\n",
      "8         10.0  -10.068865\n",
      "9         11.0  -10.264723\n",
      "10        12.0  -10.447620\n",
      "11        13.0  -10.665433\n",
      "12        14.0  -10.803584\n",
      "13        15.0  -10.991494\n"
     ]
    }
   ],
   "source": [
    "perplexity.columns=['num_topics','perplexity']\n",
    "print(perplexity)"
   ]
  },
  {
   "cell_type": "code",
   "execution_count": 46,
   "metadata": {},
   "outputs": [
    {
     "data": {
      "image/png": "[encoded data removed]",
      "text/plain": [
       "<Figure size 432x288 with 1 Axes>"
      ]
     },
     "metadata": {
      "needs_background": "light"
     },
     "output_type": "display_data"
    }
   ],
   "source": [
    "plt.plot(perplexity.iloc[:,0],perplexity.iloc[:,1])\n",
    "plt.plot(perplexity.iloc[0,0],perplexity.iloc[0,1],'*r')\n",
    "plt.xlabel('Number of Topics')\n",
    "plt.ylabel('log_perplexity')\n",
    "plt.title('Optimal Number of Topics: 2')\n",
    "plt.show()"
   ]
  },
  {
   "cell_type": "markdown",
   "metadata": {},
   "source": [
    "### 1.2.3 Apply the LDA Model with topic number = 2\n",
    "In terms of the cross validation result, the number of topics is fine-tuned as 2."
   ]
  },
  {
   "cell_type": "code",
   "execution_count": 26,
   "metadata": {},
   "outputs": [
    {
     "name": "stdout",
     "output_type": "stream",
     "text": [
      "The topics are: \n",
      "[(0,\n",
      "  '0.007*\"dress\" + 0.007*\"top\" + 0.005*\"look\" + 0.005*\"size\" + 0.005*\"like\" + '\n",
      "  '0.005*\"n\\'t\" + 0.005*\"fit\" + 0.005*\"small\" + 0.005*\"fabric\" + 0.005*\"\\'s\"'),\n",
      " (1,\n",
      "  '0.022*\"nan\" + 0.008*\"love\" + 0.008*\"great\" + 0.007*\"dress\" + '\n",
      "  '0.006*\"comfort\" + 0.006*\"jean\" + 0.006*\"color\" + 0.005*\"perfect\" + '\n",
      "  '0.005*\"soft\" + 0.005*\"wear\"')]\n"
     ]
    }
   ],
   "source": [
    "num_topics = 2\n",
    "\n",
    "lda = models.LdaModel(corpus_tfidf, id2word = dictionary, num_topics = num_topics)\n",
    "corpus_lda = lda[corpus_tfidf]\n",
    "\n",
    "print('The topics are: ')\n",
    "pprint(lda.print_topics())"
   ]
  },
  {
   "cell_type": "code",
   "execution_count": 37,
   "metadata": {},
   "outputs": [],
   "source": [
    "# print('The bag-of-topics features are:')\n",
    "# for doc in corpus_lda:\n",
    "#     print(doc)"
   ]
  },
  {
   "cell_type": "code",
   "execution_count": 28,
   "metadata": {},
   "outputs": [
    {
     "name": "stdout",
     "output_type": "stream",
     "text": [
      "\n",
      "Coherence Score of LDA with 2 topics:  -1.7219031770321829\n"
     ]
    }
   ],
   "source": [
    "coherence_model_lda = models.CoherenceModel(model=lda,corpus=corpus_tfidf, coherence='u_mass')\n",
    "coherence_lda = coherence_model_lda.get_coherence()\n",
    "print('\\nCoherence Score of LDA with 2 topics: ',coherence_lda)"
   ]
  },
  {
   "cell_type": "markdown",
   "metadata": {},
   "source": [
    "## II. Sentiment Prediction\n",
    "\n",
    "(Recommended / Not recommended) of reviews using their bag-of-topics features by fitting a logistic regression model."
   ]
  },
  {
   "cell_type": "markdown",
   "metadata": {},
   "source": [
    "### 2.1.1 Prediction with LSA Model\n",
    "\n",
    "We use the LSA (num-topics=3) model results as the output. Before going through the discrete choice model, we need to convert the bag of topics into a Dataframe for logistic regression."
   ]
  },
  {
   "cell_type": "code",
   "execution_count": 20,
   "metadata": {},
   "outputs": [],
   "source": [
    "num_topics = 3\n",
    "\n",
    "columns = []\n",
    "for i in range(num_topics):\n",
    "    columns.append(i)\n",
    "\n",
    "lsa_feature = pd.DataFrame(columns = columns)\n",
    "\n",
    "for i in range(len(corpus_lsi)):\n",
    "    l = pd.Series(x[1] for x in corpus_lsi[i])\n",
    "    lsa_feature = lsa_feature.append(l,ignore_index = True)"
   ]
  },
  {
   "cell_type": "code",
   "execution_count": 21,
   "metadata": {},
   "outputs": [],
   "source": [
    "#Train-Test Split\n",
    "X_train,X_test,y_train,y_test = train_test_split(lsa_feature, sentiment_label, random_state = 233)"
   ]
  },
  {
   "cell_type": "code",
   "execution_count": 22,
   "metadata": {},
   "outputs": [],
   "source": [
    "#fit to logistic regression model\n",
    "LR = LogisticRegression()\n",
    "LR.fit(X_train,y_train)\n",
    "y_pred = LR.predict(X_test)"
   ]
  },
  {
   "cell_type": "markdown",
   "metadata": {},
   "source": [
    "### 2.1.2 Calculate the prediction error\n",
    "(Defined as the percentage of incorrect predictions)"
   ]
  },
  {
   "cell_type": "code",
   "execution_count": 23,
   "metadata": {},
   "outputs": [
    {
     "name": "stdout",
     "output_type": "stream",
     "text": [
      "Prediction Error with LSA model: 17.88%\n"
     ]
    }
   ],
   "source": [
    "print('Prediction Error with LSA model: {:.2%}'.format(1 - accuracy_score(y_pred, y_test)))"
   ]
  },
  {
   "cell_type": "markdown",
   "metadata": {},
   "source": [
    "### 2.2.1 Prediction with LDA Model"
   ]
  },
  {
   "cell_type": "code",
   "execution_count": 29,
   "metadata": {},
   "outputs": [],
   "source": [
    "num_topics = 2\n",
    "\n",
    "columns = []\n",
    "for i in range(num_topics):\n",
    "    columns.append(i)\n",
    "\n",
    "lda_feature = pd.DataFrame(columns = columns)\n",
    "\n",
    "for i in range(len(corpus_lda)):\n",
    "    l = pd.Series(x[1] for x in corpus_lda[i])\n",
    "    lda_feature = lda_feature.append(l,ignore_index = True)"
   ]
  },
  {
   "cell_type": "code",
   "execution_count": 30,
   "metadata": {},
   "outputs": [],
   "source": [
    "X_train,X_test,y_train,y_test = train_test_split(lda_feature, sentiment_label, random_state = 233)"
   ]
  },
  {
   "cell_type": "code",
   "execution_count": 31,
   "metadata": {},
   "outputs": [],
   "source": [
    "LR = LogisticRegression()\n",
    "LR.fit(X_train,y_train)\n",
    "y_pred = LR.predict(X_test)"
   ]
  },
  {
   "cell_type": "markdown",
   "metadata": {},
   "source": [
    "### 2.2.2 Calculate the prediction error\n",
    "(Defined as the percentage of incorrect predictions)"
   ]
  },
  {
   "cell_type": "code",
   "execution_count": 32,
   "metadata": {},
   "outputs": [
    {
     "name": "stdout",
     "output_type": "stream",
     "text": [
      "Prediction Error with LDA model: 17.81%\n"
     ]
    }
   ],
   "source": [
    "print('Prediction Error with LDA model: {:.2%}'.format(1 - accuracy_score(y_pred, y_test)))"
   ]
  }
 ],
 "metadata": {
  "kernelspec": {
   "display_name": "Python 3",
   "language": "python",
   "name": "python3"
  },
  "language_info": {
   "codemirror_mode": {
    "name": "ipython",
    "version": 3
   },
   "file_extension": ".py",
   "mimetype": "text/x-python",
   "name": "python",
   "nbconvert_exporter": "python",
   "pygments_lexer": "ipython3",
   "version": "3.7.4"
  }
 },
 "nbformat": 4,
 "nbformat_minor": 2
}
